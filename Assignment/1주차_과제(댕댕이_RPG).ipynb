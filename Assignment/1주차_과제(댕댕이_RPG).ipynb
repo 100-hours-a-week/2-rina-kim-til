{
  "cells": [
    {
      "cell_type": "code",
      "execution_count": null,
      "metadata": {
        "id": "wxITkDefEhQZ"
      },
      "outputs": [],
      "source": [
        "import time\n",
        "import random\n",
        "import os"
      ]
    },
    {
      "cell_type": "code",
      "execution_count": null,
      "metadata": {
        "id": "NH_Ay2NCEqu-"
      },
      "outputs": [],
      "source": [
        "class charecter:\n",
        "    def __init__(self, name, hp, skill, power):\n",
        "        self.name = name\n",
        "        self.hp = hp\n",
        "        self.power = power\n",
        "        self.skill = skill\n",
        "\n",
        "    def __str__(self):\n",
        "        return self.name\n",
        "\n",
        "    def attack(self, target):\n",
        "        target.hp -= self.power\n",
        "        target.hp = max(0, target.hp)\n",
        "        return target.hp"
      ]
    },
    {
      "cell_type": "code",
      "execution_count": null,
      "metadata": {
        "id": "c3UxaNvHEq6w"
      },
      "outputs": [],
      "source": [
        "class player(charecter):\n",
        "    def __init__(self, name, hp, power):\n",
        "        super().__init__(name, hp, None, power)"
      ]
    },
    {
      "cell_type": "code",
      "execution_count": null,
      "metadata": {
        "id": "8ltUSeL8ErBR"
      },
      "outputs": [],
      "source": [
        "class monster(charecter):\n",
        "    def __init__(self, name, hp, skill, power):\n",
        "        super().__init__(name, hp, skill, power)"
      ]
    },
    {
      "cell_type": "code",
      "execution_count": null,
      "metadata": {
        "id": "X7CyTvkZErFF"
      },
      "outputs": [],
      "source": [
        "# 플레이어, 몬스터 저장\n",
        "charecters = {}"
      ]
    },
    {
      "cell_type": "code",
      "execution_count": null,
      "metadata": {
        "id": "XbTFUqoQFSBZ"
      },
      "outputs": [],
      "source": [
        "# 게임 시작\n",
        "def game_start():\n",
        "    while True:\n",
        "        print(\"\"\"\n",
        "            ╔═══════════════════════╗\n",
        "                       선택\n",
        "\n",
        "                    1. 게임시작\n",
        "                    2. 게임종료\n",
        "            ╚═══════════════════════╝\n",
        "        \"\"\") # 삼중따옴표: 입력하는 문자열 구조 그대로 출력\n",
        "        command = input(\">> 선택하세요: \")\n",
        "        if command == '1':\n",
        "            os.system(\"cls\")\n",
        "            player_create()\n",
        "        elif command == '2':\n",
        "            print(\"게임을 종료합니다.\")\n",
        "            time.sleep(2)\n",
        "            os.system(\"cls\")\n",
        "            exit()\n",
        "        else:\n",
        "            print(\"다시 선택해주세요.\")\n",
        "            os.system(\"cls\")"
      ]
    },
    {
      "cell_type": "code",
      "execution_count": null,
      "metadata": {
        "id": "Jbskc6hiFVvQ"
      },
      "outputs": [],
      "source": [
        "# 캐릭터 이름 입력\n",
        "def player_create():\n",
        "    global char\n",
        "    print(\"댕댕이의 이름을 입력해주세요\")\n",
        "    player_name = input(\">> \")\n",
        "    charecters[player_name] = player(player_name, 100, random.randint(15, 30))\n",
        "    print(f\"댕댕이의 이름은 {player_name}입니다.\")\n",
        "    char = charecters[player_name]\n",
        "    time.sleep(2)\n",
        "    os.system(\"cls\")\n",
        "    story()"
      ]
    },
    {
      "cell_type": "code",
      "execution_count": null,
      "metadata": {
        "id": "3nKOIDJVFaCr"
      },
      "outputs": [],
      "source": [
        "# 스토리 진행\n",
        "def story():\n",
        "    print(f\"{char.name}이(가) 어디갔지~?\")\n",
        "    time.sleep(2)\n",
        "    print(\"산책하다 보니 너무 멀리까지 와버렸다 멍.. 얼른 집으로 돌아가자!\")\n",
        "    time.sleep(2)\n",
        "    print(f\"{char.name}이(가) 무사히 집에 돌아갈 수 있도록 도와주세요.\")\n",
        "    time.sleep(2)\n",
        "    os.system(\"cls\")\n",
        "    road_scene()"
      ]
    },
    {
      "cell_type": "code",
      "execution_count": null,
      "metadata": {
        "id": "znGgVVxuFm68"
      },
      "outputs": [],
      "source": [
        "def road_scene():\n",
        "    print(f\"{char.name}이(가) 집으로 돌아가는 중입니다.\")\n",
        "    time.sleep(2)\n",
        "    print(\"\"\"~ ૮ ･ ﻌ･ა ~\"\"\")\n",
        "    time.sleep(2)\n",
        "    print(\"...\")\n",
        "    time.sleep(2)\n",
        "    print(\"...\")\n",
        "    time.sleep(2)\n",
        "    random_scene()\n",
        "\n",
        "# 보물상자와 전투 랜덤 선택\n",
        "def random_scene():\n",
        "    treasure_value = 30\n",
        "    battle_value = 70\n",
        "\n",
        "    random_value = random.random() * 100\n",
        "    while True:\n",
        "        if random_value <= treasure_value:\n",
        "            treasure()\n",
        "        else:\n",
        "            battle()"
      ]
    },
    {
      "cell_type": "code",
      "execution_count": null,
      "metadata": {
        "id": "GNazL3XnFsHU"
      },
      "outputs": [],
      "source": [
        "# 보물상자\n",
        "def treasure():\n",
        "    while True:\n",
        "        print(\"=========================================================\")\n",
        "        print(\"상자를 발견했다! 열어볼까?\")\n",
        "        time.sleep(1)\n",
        "        print(\"\"\"\n",
        "            1. 연다.\n",
        "            2. 열지 않는다.\n",
        "            \"\"\")\n",
        "        command = input(\">> \")\n",
        "        if command == \"1\":\n",
        "            #보물상자 간식과 몬스터 랜덤 선택\n",
        "            random.choice([treasure_snack(), treasure_monster()])\n",
        "        elif command == \"2\":\n",
        "            road_scene()\n",
        "        else:\n",
        "            print(\"다시 선택해달라멍!\")"
      ]
    },
    {
      "cell_type": "code",
      "execution_count": null,
      "metadata": {
        "id": "wXUWwXmzFqSJ"
      },
      "outputs": [],
      "source": [
        "# 보물상자_간식\n",
        "def treasure_snack():\n",
        "    print(\"맛있는 간식이야! 피로가 조금 회복되는 것 같아!\")\n",
        "    time.sleep(2)\n",
        "    if char.hp < 100:\n",
        "        heal = random.randint(1, 10)\n",
        "        char.hp = min(100, char.hp + heal)\n",
        "    else:\n",
        "        None\n",
        "    print(f\"{char.name}의 현제 체력은 {char.hp}입니다.\")\n",
        "    time.sleep(1.5)\n",
        "    print(\"=========================================================\")\n",
        "    time.sleep(1.5)\n",
        "    road_scene()"
      ]
    },
    {
      "cell_type": "code",
      "execution_count": null,
      "metadata": {
        "id": "HYtaLD4NFoAN"
      },
      "outputs": [],
      "source": [
        "# 보물상자_몬스터\n",
        "def treasure_monster():\n",
        "    print(\"=========================================================\")\n",
        "    print(\"앗, 상자에서 벌이 튀어나왔다!\")\n",
        "    time.sleep(1.5)\n",
        "    print(\"벌에 쏘인 것 같다 멍..\")\n",
        "    time.sleep(2)\n",
        "    char.hp -= random.randint(1, 10)\n",
        "    print(f'{char.name}의 현재 체력은 {char.hp}이다 멍!')\n",
        "    print(\"=========================================================\")\n",
        "    if char.hp <= 0:\n",
        "        death()\n",
        "    else:\n",
        "        road_scene()"
      ]
    },
    {
      "cell_type": "code",
      "execution_count": null,
      "metadata": {
        "id": "3gTN0F1cFkEc"
      },
      "outputs": [],
      "source": [
        "# 배틀에 참가하는 몬스터\n",
        "def battle():\n",
        "    global monster_list\n",
        "    monster_list = [\n",
        "        monster(\"비둘기\", 55, \"날개짓\", random.randint(5, 15)),\n",
        "        monster(\"쥐\", 45, \"갉아먹기\", random.randint(1, 10)),\n",
        "        monster(\"고양이\", 40, \"하악질\", random.randint(10, 20)),\n",
        "        monster(\"참새\", 30, \"쪼기\", random.randint(10, 20)),\n",
        "        monster(\"뱀\", 35, \"똬리틀기\", random.randint(10, 20)),\n",
        "    ]\n",
        "\n",
        "    # 몬스터 랜덤으로 뽑기\n",
        "    enemy = random.choice(monster_list)\n",
        "    return monster_atk(enemy, char)\n"
      ]
    },
    {
      "cell_type": "code",
      "execution_count": null,
      "metadata": {
        "id": "BUGhG-RFFhJM"
      },
      "outputs": [],
      "source": [
        "# 몬스터 공격 턴\n",
        "def monster_atk(monster, player, first_attack=True):\n",
        "    # 첫 번째 싸움에만 출력\n",
        "    if first_attack:\n",
        "        print(\"=========================================================\")\n",
        "        print(f\"앗! 야생의 {monster.name}이(가) 나타났다멍!\")\n",
        "        time.sleep(1.5)\n",
        "        while True:\n",
        "            print(\"\"\"\n",
        "                ╔═══════════════════════╗\n",
        "                        선택\n",
        "\n",
        "                        1. 싸운다\n",
        "                        2. 도망간다\n",
        "                ╚═══════════════════════╝\n",
        "            \"\"\")\n",
        "            command = input(\">> 선택하세요: \")\n",
        "            if command == '1':\n",
        "                break\n",
        "            else:\n",
        "                command == '2'\n",
        "                time.sleep(1.5)\n",
        "                print(\"도망가야겠다 멍!!\")\n",
        "                time.sleep(1.5)\n",
        "                print(\"=========================================================\")\n",
        "                time.sleep(1.5)\n",
        "                os.system(\"cls\")\n",
        "                road_scene()\n",
        "                break\n",
        "\n",
        "    monster.attack(player)\n",
        "\n",
        "    print(\"=========================================================\")\n",
        "    time.sleep(1.5)\n",
        "    print(f\"{monster.name}이(가) {monster.skill}을(를) 사용했다!\")\n",
        "    time.sleep(1.5)\n",
        "    print(f\"{monster.power}의 상처를 입었다 멍...\")\n",
        "    time.sleep(1.5)\n",
        "    print(f\"현재 {char.name}의 체력은 {char.hp}이다 멍!\")\n",
        "    time.sleep(1.5)\n",
        "    print(\"=========================================================\")\n",
        "    time.sleep(1.5)\n",
        "    if char.hp <= 0:\n",
        "        death()\n",
        "    else:\n",
        "        player_atk(monster, player, first_attack=False)"
      ]
    },
    {
      "cell_type": "code",
      "execution_count": null,
      "metadata": {
        "id": "XkwAVMkkFeyK"
      },
      "outputs": [],
      "source": [
        "# 플레이어 공격 턴\n",
        "def player_atk(monster, player, first_attack=True):\n",
        "    player.attack(monster)\n",
        "    print(f\"{char.name}이(가) {char.power}의 상처를 입혔다!\")\n",
        "    time.sleep(1.5)\n",
        "    print(f\"현재 {monster.name}의 체력은 {monster.hp}이다 멍!\")\n",
        "    time.sleep(1.5)\n",
        "    while True:\n",
        "        if monster.hp <= 0:\n",
        "            print(f\"{monster.name}을(를) 물리치는데 성공했다 멍!\")\n",
        "            time.sleep(1.5)\n",
        "            print(\"=========================================================\")\n",
        "            time.sleep(1.5)\n",
        "            os.system(\"cls\")\n",
        "            # 몬스터 물리칠 때마다 해당 몬스터 리스트에서 삭제\n",
        "            monster_list.remove(monster)\n",
        "            # 몬스터 리스트가 0이 되면 엔딩\n",
        "            if len(monster_list) <= 0:\n",
        "                print(\"\"\"        ╱◥▦◣\n",
        "                        ,,, ,,, │田│田│ ,,, ,,,\n",
        "                        \"\"\")\n",
        "                time.sleep(1)\n",
        "                print(\"앗, 저기 우리 집이 보인다! 무사히 데려다줘서 고맙다 멍!\")\n",
        "                time.sleep(2)\n",
        "                os.system(\"cls\")\n",
        "                game_start()\n",
        "            else:\n",
        "                road_scene()\n",
        "            break\n",
        "        else:\n",
        "            monster_atk(monster, player, first_attack=False)\n",
        "            break"
      ]
    },
    {
      "cell_type": "code",
      "execution_count": null,
      "metadata": {
        "id": "SLwzaeU4FcXw"
      },
      "outputs": [],
      "source": [
        "# 플레이어 사망\n",
        "def death():\n",
        "    print(f\"{char.name}이(가) 쓰러졌습니다.\")\n",
        "    time.sleep(2)\n",
        "    os.system(\"cls\")\n",
        "    time.sleep(2)\n",
        "    game_start()"
      ]
    },
    {
      "cell_type": "code",
      "execution_count": null,
      "metadata": {
        "colab": {
          "background_save": true,
          "base_uri": "https://localhost:8080/",
          "height": 436
        },
        "id": "8UyvDq8kFbBA",
        "outputId": "364f0992-2c9d-4fee-fac6-603885b3ce26"
      },
      "outputs": [
        {
          "name": "stdout",
          "output_type": "stream",
          "text": [
            " \n",
            "            ╔═══════════════════════╗\n",
            "                       선택\n",
            "              \n",
            "                    1. 게임시작 \n",
            "                    2. 게임종료\n",
            "            ╚═══════════════════════╝\n",
            "        \n",
            "게임을 종료합니다.\n",
            " \n",
            "            ╔═══════════════════════╗\n",
            "                       선택\n",
            "              \n",
            "                    1. 게임시작 \n",
            "                    2. 게임종료\n",
            "            ╚═══════════════════════╝\n",
            "        \n"
          ]
        }
      ],
      "source": [
        "game_start()"
      ]
    }
  ],
  "metadata": {
    "colab": {
      "provenance": []
    },
    "kernelspec": {
      "display_name": "Python 3",
      "name": "python3"
    },
    "language_info": {
      "name": "python"
    }
  },
  "nbformat": 4,
  "nbformat_minor": 0
}